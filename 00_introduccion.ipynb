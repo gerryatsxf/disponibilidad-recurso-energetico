{
 "cells": [
  {
   "cell_type": "markdown",
   "id": "fee54304-3dc0-428f-b268-65763eb24f01",
   "metadata": {},
   "source": [
    "# Solar\n",
    "\n",
    "Este es mi repositorio de análisis solar. Las libretas jupyter enumeradas comprenden el razonamiento y observaciones del modelo físico utilizado en la estimación de recurso energético disponible en la radiación solar.\n",
    "\n",
    "# Links de interés\n",
    "\n",
    "- https://towardsdatascience.com/solar-panel-power-generation-analysis-7011cc078900"
   ]
  }
 ],
 "metadata": {
  "kernelspec": {
   "display_name": "Python 3 (ipykernel)",
   "language": "python",
   "name": "python3"
  },
  "language_info": {
   "codemirror_mode": {
    "name": "ipython",
    "version": 3
   },
   "file_extension": ".py",
   "mimetype": "text/x-python",
   "name": "python",
   "nbconvert_exporter": "python",
   "pygments_lexer": "ipython3",
   "version": "3.10.8"
  }
 },
 "nbformat": 4,
 "nbformat_minor": 5
}
